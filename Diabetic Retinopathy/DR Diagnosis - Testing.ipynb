{
 "cells": [
  {
   "cell_type": "code",
   "execution_count": 1,
   "id": "86cc9676",
   "metadata": {},
   "outputs": [],
   "source": [
    "import cv2\n",
    "import numpy as np\n",
    "import pandas as pd\n",
    "\n",
    "from tensorflow.keras.models import load_model"
   ]
  },
  {
   "cell_type": "code",
   "execution_count": 2,
   "id": "0dce8ae4",
   "metadata": {},
   "outputs": [
    {
     "name": "stderr",
     "output_type": "stream",
     "text": [
      "2023-03-09 14:40:15.957509: I tensorflow/core/common_runtime/pluggable_device/pluggable_device_factory.cc:306] Could not identify NUMA node of platform GPU ID 0, defaulting to 0. Your kernel may not have been built with NUMA support.\n",
      "2023-03-09 14:40:15.957907: I tensorflow/core/common_runtime/pluggable_device/pluggable_device_factory.cc:272] Created TensorFlow device (/job:localhost/replica:0/task:0/device:GPU:0 with 0 MB memory) -> physical PluggableDevice (device: 0, name: METAL, pci bus id: <undefined>)\n"
     ]
    },
    {
     "name": "stdout",
     "output_type": "stream",
     "text": [
      "Metal device set to: Apple M1\n"
     ]
    }
   ],
   "source": [
    "image_size = (224, 224, 3)\n",
    "dr_label_mapper = { 0:'Normal', 1:'Mild DR', 2: 'Moderate DR', 3:'Sever DR', 4:'Proliferative DR'}\n",
    "\n",
    "dr_clf_config = 'dr_classifier.h5'\n",
    "dr_clf_model = load_model(dr_clf_config)"
   ]
  },
  {
   "cell_type": "code",
   "execution_count": 3,
   "id": "0f810ab4",
   "metadata": {},
   "outputs": [],
   "source": [
    "def process_input(img_path, image_size):\n",
    "    image = cv2.imread(img_path)\n",
    "    image = cv2.cvtColor(image, cv2.COLOR_BGR2RGB)\n",
    "    image = cv2.resize(image, (image_size[0],image_size[1]), fx=1, fy=1,interpolation = cv2.INTER_CUBIC)\n",
    "    image = np.expand_dims(image, axis=0)\n",
    "    \n",
    "    return image"
   ]
  },
  {
   "cell_type": "code",
   "execution_count": 5,
   "id": "b28f9958",
   "metadata": {},
   "outputs": [
    {
     "name": "stderr",
     "output_type": "stream",
     "text": [
      "2023-03-09 14:42:48.572254: W tensorflow/tsl/platform/profile_utils/cpu_utils.cc:128] Failed to get CPU frequency: 0 Hz\n",
      "2023-03-09 14:42:48.765547: I tensorflow/core/grappler/optimizers/custom_graph_optimizer_registry.cc:114] Plugin optimizer for device_type GPU is enabled.\n"
     ]
    }
   ],
   "source": [
    "img_path = '../TestData/proliferative-dr.jpeg'\n",
    "inp_img = process_input(img_path, image_size)\n",
    "pred_prob = dr_clf_model.predict(inp_img, verbose=0)\n",
    "pred_label = np.argmax(pred_prob, axis=-1)[0]\n",
    "dr_label = dr_label_mapper.get(pred_label)"
   ]
  },
  {
   "cell_type": "code",
   "execution_count": 6,
   "id": "e0036dd1",
   "metadata": {},
   "outputs": [
    {
     "data": {
      "text/plain": [
       "'Moderate DR'"
      ]
     },
     "execution_count": 6,
     "metadata": {},
     "output_type": "execute_result"
    }
   ],
   "source": [
    "dr_label"
   ]
  },
  {
   "cell_type": "code",
   "execution_count": null,
   "id": "d7f4e9e5",
   "metadata": {},
   "outputs": [],
   "source": []
  }
 ],
 "metadata": {
  "kernelspec": {
   "display_name": "Python 3 (ipykernel)",
   "language": "python",
   "name": "python3"
  },
  "language_info": {
   "codemirror_mode": {
    "name": "ipython",
    "version": 3
   },
   "file_extension": ".py",
   "mimetype": "text/x-python",
   "name": "python",
   "nbconvert_exporter": "python",
   "pygments_lexer": "ipython3",
   "version": "3.10.9"
  }
 },
 "nbformat": 4,
 "nbformat_minor": 5
}
