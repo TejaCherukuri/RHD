{
 "cells": [
  {
   "cell_type": "code",
   "execution_count": 1,
   "id": "2f5bf22a",
   "metadata": {},
   "outputs": [],
   "source": [
    "import cv2\n",
    "import numpy as np\n",
    "import pandas as pd\n",
    "\n",
    "from tensorflow.keras.models import load_model"
   ]
  },
  {
   "cell_type": "code",
   "execution_count": 4,
   "id": "4fc39dc9",
   "metadata": {},
   "outputs": [
    {
     "name": "stderr",
     "output_type": "stream",
     "text": [
      "2023-03-08 21:34:31.192732: I tensorflow/core/common_runtime/pluggable_device/pluggable_device_factory.cc:306] Could not identify NUMA node of platform GPU ID 0, defaulting to 0. Your kernel may not have been built with NUMA support.\n",
      "2023-03-08 21:34:31.193128: I tensorflow/core/common_runtime/pluggable_device/pluggable_device_factory.cc:272] Created TensorFlow device (/job:localhost/replica:0/task:0/device:GPU:0 with 0 MB memory) -> physical PluggableDevice (device: 0, name: METAL, pci bus id: <undefined>)\n"
     ]
    },
    {
     "name": "stdout",
     "output_type": "stream",
     "text": [
      "Metal device set to: Apple M1\n"
     ]
    }
   ],
   "source": [
    "image_size = (224, 224, 3)\n",
    "dme_label_mapper = { 0:'No Referable DME', 1:'Referable DME'}\n",
    "\n",
    "dme_clf_config = 'dme_classifier.h5'\n",
    "dme_clf_model = load_model(dme_clf_config)"
   ]
  },
  {
   "cell_type": "code",
   "execution_count": 5,
   "id": "1b4c2e1c",
   "metadata": {},
   "outputs": [],
   "source": [
    "def process_input(img_path, image_size):\n",
    "    image = cv2.imread(img_path)\n",
    "    image = cv2.cvtColor(image, cv2.COLOR_BGR2RGB)\n",
    "    image = cv2.resize(image, (image_size[0],image_size[1]), fx=1, fy=1,interpolation = cv2.INTER_CUBIC)\n",
    "    image = np.expand_dims(image, axis=0)\n",
    "    \n",
    "    return image"
   ]
  },
  {
   "cell_type": "code",
   "execution_count": 6,
   "id": "318bab72",
   "metadata": {},
   "outputs": [
    {
     "name": "stderr",
     "output_type": "stream",
     "text": [
      "2023-03-08 22:18:52.344412: W tensorflow/tsl/platform/profile_utils/cpu_utils.cc:128] Failed to get CPU frequency: 0 Hz\n",
      "2023-03-08 22:18:52.478618: I tensorflow/core/grappler/optimizers/custom_graph_optimizer_registry.cc:114] Plugin optimizer for device_type GPU is enabled.\n"
     ]
    }
   ],
   "source": [
    "img_path = 'macular-edema.jpg'\n",
    "inp_img = process_input(img_path, image_size)\n",
    "pred_prob = dme_clf_model.predict(inp_img, verbose=0)\n",
    "pred_label = np.argmax(pred_prob, axis=-1)[0]\n",
    "dme_label = dme_label_mapper.get(pred_label)"
   ]
  },
  {
   "cell_type": "code",
   "execution_count": 7,
   "id": "0248deff",
   "metadata": {},
   "outputs": [
    {
     "data": {
      "text/plain": [
       "'Referable DME'"
      ]
     },
     "execution_count": 7,
     "metadata": {},
     "output_type": "execute_result"
    }
   ],
   "source": [
    "dme_label "
   ]
  },
  {
   "cell_type": "code",
   "execution_count": null,
   "id": "72f89656",
   "metadata": {},
   "outputs": [],
   "source": []
  }
 ],
 "metadata": {
  "kernelspec": {
   "display_name": "Python 3 (ipykernel)",
   "language": "python",
   "name": "python3"
  },
  "language_info": {
   "codemirror_mode": {
    "name": "ipython",
    "version": 3
   },
   "file_extension": ".py",
   "mimetype": "text/x-python",
   "name": "python",
   "nbconvert_exporter": "python",
   "pygments_lexer": "ipython3",
   "version": "3.10.9"
  }
 },
 "nbformat": 4,
 "nbformat_minor": 5
}
