{
 "cells": [
  {
   "cell_type": "code",
   "execution_count": 27,
   "id": "d5a3d9a9",
   "metadata": {},
   "outputs": [],
   "source": [
    "import cv2\n",
    "import numpy as np\n",
    "import pandas as pd\n",
    "\n",
    "from tensorflow.keras.models import load_model"
   ]
  },
  {
   "cell_type": "code",
   "execution_count": 28,
   "id": "834b76bb",
   "metadata": {},
   "outputs": [],
   "source": [
    "ext_eye_image_size = (156,156,3)\n",
    "cataract_label_mapper = { 0:'Cataract', 1:'Normal'}\n",
    "ALLOWED_EXTENSION  =set(['png','jpg','jpeg'])\n",
    "\n",
    "ext_eye_cataract_clf_config = 'external-eyes_cataract_classsifier.h5'\n",
    "ext_eye_cataract_clf_model = load_model(ext_eye_cataract_clf_config)"
   ]
  },
  {
   "cell_type": "code",
   "execution_count": 29,
   "id": "2234b9cc",
   "metadata": {},
   "outputs": [],
   "source": [
    "def allowed_file(filename):\n",
    "    return '.' in filename and filename.rsplit('.',1)[1] in ALLOWED_EXTENSION\n",
    "\n",
    "def process_input(img_path, image_size):\n",
    "    image = cv2.imread(img_path)\n",
    "    image = cv2.cvtColor(image, cv2.COLOR_BGR2RGB)\n",
    "    image = cv2.resize(image, (image_size[0],image_size[1]), fx=1, fy=1,interpolation = cv2.INTER_CUBIC)\n",
    "    image = np.expand_dims(image, axis=0)\n",
    "    \n",
    "    return image"
   ]
  },
  {
   "cell_type": "code",
   "execution_count": 32,
   "id": "b8512a20",
   "metadata": {},
   "outputs": [],
   "source": [
    "img_path = 'image7.jpg'\n",
    "inp_img = process_input(img_path, ext_eye_image_size)\n",
    "pred_prob = ext_eye_cataract_clf_model.predict(inp_img, verbose=0)\n",
    "pred_label = np.argmax(pred_prob, axis=-1)[0]\n",
    "ext_eye_cataract_label = cataract_label_mapper.get(pred_label)"
   ]
  },
  {
   "cell_type": "code",
   "execution_count": 33,
   "id": "94911173",
   "metadata": {},
   "outputs": [
    {
     "name": "stdout",
     "output_type": "stream",
     "text": [
      "Cataract\n"
     ]
    }
   ],
   "source": [
    "print(ext_eye_cataract_label)"
   ]
  },
  {
   "cell_type": "code",
   "execution_count": null,
   "id": "a094414d",
   "metadata": {},
   "outputs": [],
   "source": []
  },
  {
   "cell_type": "code",
   "execution_count": 47,
   "id": "600ce84a",
   "metadata": {},
   "outputs": [],
   "source": [
    "fundus_image_size = (224,224,3)\n",
    "fundus_img_cataract_label_mapper = { 1:'Cataract', 0:'Normal'}\n",
    "ALLOWED_EXTENSION  =set(['png','jpg','jpeg'])\n",
    "\n",
    "fundus_img_cataract_clf_config = 'fundus-image_cataract_classifier.h5'\n",
    "fundus_img_cataract_clf_model = load_model(fundus_img_cataract_clf_config)"
   ]
  },
  {
   "cell_type": "code",
   "execution_count": 48,
   "id": "468c3b92",
   "metadata": {},
   "outputs": [
    {
     "name": "stderr",
     "output_type": "stream",
     "text": [
      "2023-02-18 12:00:46.767967: I tensorflow/core/grappler/optimizers/custom_graph_optimizer_registry.cc:114] Plugin optimizer for device_type GPU is enabled.\n"
     ]
    },
    {
     "name": "stdout",
     "output_type": "stream",
     "text": [
      "WARNING:tensorflow:5 out of the last 8 calls to <function Model.make_predict_function.<locals>.predict_function at 0x2ea8ed1b0> triggered tf.function retracing. Tracing is expensive and the excessive number of tracings could be due to (1) creating @tf.function repeatedly in a loop, (2) passing tensors with different shapes, (3) passing Python objects instead of tensors. For (1), please define your @tf.function outside of the loop. For (2), @tf.function has reduce_retracing=True option that can avoid unnecessary retracing. For (3), please refer to https://www.tensorflow.org/guide/function#controlling_retracing and https://www.tensorflow.org/api_docs/python/tf/function for  more details.\n"
     ]
    }
   ],
   "source": [
    "img_path = '1144_right.jpg'\n",
    "inp_img = process_input(img_path, fundus_image_size)\n",
    "pred_prob = fundus_img_cataract_clf_model.predict(inp_img, verbose=0)\n",
    "pred_label = np.argmax(pred_prob, axis=-1)[0]\n",
    "fundus_img_cataract_label = fundus_img_cataract_label_mapper.get(pred_label)"
   ]
  },
  {
   "cell_type": "code",
   "execution_count": 49,
   "id": "4b2ac070",
   "metadata": {},
   "outputs": [
    {
     "data": {
      "text/plain": [
       "'Normal'"
      ]
     },
     "execution_count": 49,
     "metadata": {},
     "output_type": "execute_result"
    }
   ],
   "source": [
    "fundus_img_cataract_label"
   ]
  },
  {
   "cell_type": "code",
   "execution_count": null,
   "id": "12819e78",
   "metadata": {},
   "outputs": [],
   "source": []
  }
 ],
 "metadata": {
  "kernelspec": {
   "display_name": "Python 3 (ipykernel)",
   "language": "python",
   "name": "python3"
  },
  "language_info": {
   "codemirror_mode": {
    "name": "ipython",
    "version": 3
   },
   "file_extension": ".py",
   "mimetype": "text/x-python",
   "name": "python",
   "nbconvert_exporter": "python",
   "pygments_lexer": "ipython3",
   "version": "3.10.9"
  }
 },
 "nbformat": 4,
 "nbformat_minor": 5
}
